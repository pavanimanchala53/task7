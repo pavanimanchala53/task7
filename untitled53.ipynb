{
 "cells": [
  {
   "cell_type": "code",
   "execution_count": 1,
   "id": "35b68f80",
   "metadata": {},
   "outputs": [
    {
     "name": "stdout",
     "output_type": "stream",
     "text": [
      "C:\\Users\\PAVANI\\short_url\n"
     ]
    }
   ],
   "source": [
    "%cd C:\\Users\\PAVANI\\short_url\n"
   ]
  },
  {
   "cell_type": "code",
   "execution_count": null,
   "id": "20378949",
   "metadata": {
    "scrolled": false
   },
   "outputs": [
    {
     "name": "stdout",
     "output_type": "stream",
     "text": [
      " * Serving Flask app \"__main__\" (lazy loading)\n",
      " * Environment: production\n",
      "\u001b[31m   WARNING: This is a development server. Do not use it in a production deployment.\u001b[0m\n",
      "\u001b[2m   Use a production WSGI server instead.\u001b[0m\n",
      " * Debug mode: off\n"
     ]
    },
    {
     "name": "stderr",
     "output_type": "stream",
     "text": [
      " * Running on http://127.0.0.1:5000/ (Press CTRL+C to quit)\n",
      "127.0.0.1 - - [28/May/2023 15:48:10] \"GET / HTTP/1.1\" 200 -\n",
      "127.0.0.1 - - [28/May/2023 15:48:10] \"GET /favicon.ico HTTP/1.1\" 200 -\n",
      "127.0.0.1 - - [28/May/2023 16:09:50] \"POST / HTTP/1.1\" 200 -\n",
      "127.0.0.1 - - [28/May/2023 16:09:50] \"GET /favicon.ico HTTP/1.1\" 200 -\n",
      "127.0.0.1 - - [28/May/2023 16:09:52] \"GET /woBrLX HTTP/1.1\" 302 -\n"
     ]
    }
   ],
   "source": [
    "import string\n",
    "import random\n",
    "from flask import Flask, redirect, render_template, request\n",
    "\n",
    "class URLShortener:\n",
    "    def __init__(self):\n",
    "        self.database = {}\n",
    "\n",
    "    def generate_short_link(self, long_url):\n",
    "        characters = string.ascii_letters + string.digits\n",
    "        short_url = ''.join(random.choice(characters) for i in range(6))\n",
    "        self.database[short_url] = long_url\n",
    "        return short_url\n",
    "\n",
    "    def get_long_url(self, short_url):\n",
    "        return self.database.get(short_url)\n",
    "\n",
    "url_shortener = URLShortener()\n",
    "\n",
    "app = Flask(__name__)\n",
    "\n",
    "@app.route('/', methods=['GET', 'POST'])\n",
    "def home():\n",
    "    if request.method == 'POST':\n",
    "        long_url = request.form['url']\n",
    "        short_url = url_shortener.generate_short_link(long_url)\n",
    "        return render_template('index.html', short_url= short_url)\n",
    "    return render_template('index.html')\n",
    "\n",
    "@app.route('/<short_url>')\n",
    "def redirect_to_long_url(short_url):\n",
    "    long_url = url_shortener.get_long_url(short_url)\n",
    "    if long_url:\n",
    "        return redirect(long_url)\n",
    "    else:\n",
    "        return \"Short URL not found.\"\n",
    "\n",
    "if __name__ == '__main__':\n",
    "    app.run()"
   ]
  },
  {
   "cell_type": "code",
   "execution_count": null,
   "id": "bb7d8f0d",
   "metadata": {},
   "outputs": [],
   "source": []
  }
 ],
 "metadata": {
  "kernelspec": {
   "display_name": "Python 3 (ipykernel)",
   "language": "python",
   "name": "python3"
  },
  "language_info": {
   "codemirror_mode": {
    "name": "ipython",
    "version": 3
   },
   "file_extension": ".py",
   "mimetype": "text/x-python",
   "name": "python",
   "nbconvert_exporter": "python",
   "pygments_lexer": "ipython3",
   "version": "3.9.7"
  }
 },
 "nbformat": 4,
 "nbformat_minor": 5
}
